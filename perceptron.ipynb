{
 "cells": [
  {
   "cell_type": "code",
   "execution_count": 1,
   "metadata": {},
   "outputs": [],
   "source": [
    "import numpy as np \n",
    "class Perceptron(object):\n",
    "    def __init__(self, input_size, lr=1, epochs=10):\n",
    "        self.W = np.zeros(input_size+1)\n",
    "        self.epochs = epochs\n",
    "        self.lr = lr\n",
    "\n",
    "    def activation_fn(self, x):\n",
    "        return 1 if x >=0 else 0\n",
    "\n",
    "    def predict(self, x):\n",
    "        x = np.insert(x, 0, 1)\n",
    "        z = self.W.T.dot(x)\n",
    "        a = self.activation_fn(z)\n",
    "        #print(a)\n",
    "        return a\n",
    "\n",
    "    def fit(self, X, d):  #d veri\n",
    "        for _ in range(self.epochs):\n",
    "            for i in range(d.shape[0]):\n",
    "                y = self.predict(X[i])\n",
    "                e = d[i] - y  #error değeri\n",
    "                self.W = self.W + self.lr * e * np.insert(X[i], 0, 1)\n"
   ]
  },
  {
   "cell_type": "code",
   "execution_count": 2,
   "metadata": {},
   "outputs": [],
   "source": [
    "mp = Perceptron(5)"
   ]
  },
  {
   "cell_type": "code",
   "execution_count": 3,
   "metadata": {},
   "outputs": [
    {
     "data": {
      "text/plain": [
       "0"
      ]
     },
     "execution_count": 3,
     "metadata": {},
     "output_type": "execute_result"
    }
   ],
   "source": [
    "mp.activation_fn(-10)"
   ]
  },
  {
   "cell_type": "code",
   "execution_count": 4,
   "metadata": {},
   "outputs": [
    {
     "data": {
      "text/plain": [
       "array([1, 2, 3, 4, 5])"
      ]
     },
     "execution_count": 4,
     "metadata": {},
     "output_type": "execute_result"
    }
   ],
   "source": [
    "x = np.asarray([1,2,3,4,5])\n",
    "x"
   ]
  },
  {
   "cell_type": "code",
   "execution_count": 5,
   "metadata": {},
   "outputs": [
    {
     "data": {
      "text/plain": [
       "1"
      ]
     },
     "execution_count": 5,
     "metadata": {},
     "output_type": "execute_result"
    }
   ],
   "source": [
    "mp.predict(x)"
   ]
  },
  {
   "cell_type": "code",
   "execution_count": 6,
   "metadata": {},
   "outputs": [],
   "source": [
    "X = np.array([\n",
    "    [0,0],\n",
    "    [0,1],\n",
    "    [1,0],\n",
    "    [1,1]\n",
    "])"
   ]
  },
  {
   "cell_type": "code",
   "execution_count": 7,
   "metadata": {},
   "outputs": [],
   "source": [
    "d = np.array([0,0,0,1])"
   ]
  },
  {
   "cell_type": "code",
   "execution_count": 8,
   "metadata": {},
   "outputs": [
    {
     "data": {
      "text/plain": [
       "array([[0, 0],\n",
       "       [0, 1],\n",
       "       [1, 0],\n",
       "       [1, 1]])"
      ]
     },
     "execution_count": 8,
     "metadata": {},
     "output_type": "execute_result"
    }
   ],
   "source": [
    "X"
   ]
  },
  {
   "cell_type": "code",
   "execution_count": 9,
   "metadata": {},
   "outputs": [],
   "source": [
    "perceptron = Perceptron(input_size=2)"
   ]
  },
  {
   "cell_type": "code",
   "execution_count": 10,
   "metadata": {},
   "outputs": [
    {
     "data": {
      "text/plain": [
       "array([0., 0., 0.])"
      ]
     },
     "execution_count": 10,
     "metadata": {},
     "output_type": "execute_result"
    }
   ],
   "source": [
    "perceptron.W"
   ]
  },
  {
   "cell_type": "code",
   "execution_count": 11,
   "metadata": {},
   "outputs": [],
   "source": [
    "perceptron.fit(X,d)  #perceptron eğitildi"
   ]
  },
  {
   "cell_type": "code",
   "execution_count": 12,
   "metadata": {},
   "outputs": [
    {
     "data": {
      "text/plain": [
       "array([-3.,  2.,  1.])"
      ]
     },
     "execution_count": 12,
     "metadata": {},
     "output_type": "execute_result"
    }
   ],
   "source": [
    "perceptron.W"
   ]
  },
  {
   "cell_type": "code",
   "execution_count": 13,
   "metadata": {},
   "outputs": [
    {
     "data": {
      "text/plain": [
       "0"
      ]
     },
     "execution_count": 13,
     "metadata": {},
     "output_type": "execute_result"
    }
   ],
   "source": [
    "perceptron.predict(np.asarray([0,0]))"
   ]
  },
  {
   "cell_type": "markdown",
   "metadata": {},
   "source": [
    "# Ödev soruları ve cevapları"
   ]
  },
  {
   "cell_type": "markdown",
   "metadata": {},
   "source": [
    "#### 1) Perceptron class tanımında var olan fonksiyonları kısaca tanıtınız.\n",
    "\n",
    "- init metodu\n",
    "    Bu metod perceptron sınıfından bir nesne oluşturduğumuzda otomatik olarak çalışır, perceptronumuz için gerekli matris ve hiper parametreleri ilklendirme (initiliazing) işlemini gerçekleştirir\n",
    "    \n",
    "- activation metodu:\n",
    "    Bu metod aldığı girdinin istenilen bir eşik değeri olan 0 değerinden büyük olup olmamasına göre bir ateşleme sağlar.\n",
    "    \n",
    "- predict metodu:\n",
    "    Bu metod perceptronumuzun ileri yayılım (forward propagating) ile aldığı girdiye karşılık bir tahminde bulunmasını sağlar. İleri yayılım esnasında girdi matrisine ağırlık matrisinin transpozesi ile dot product uygulanır ve yukarıda tanımlanmış aktivasyon fonksiyonundan geçirilir.\n",
    "    \n",
    "- fit metodu:\n",
    "    Bu metod girdi olarak aldığı datasetin her bir elemanına yukarda tanımlanmış predict metodunu uygular ve gerçekte olması gereken değerlerden ne kadar uzak olduğunu hesaplayıp bu değere göre ağırlık matrisini yeni değerine günceller. Bütün bu işlemleri veri kümesi üzerinde kaç tur yapacağına da epoch değeri karar verir."
   ]
  },
  {
   "cell_type": "markdown",
   "metadata": {},
   "source": [
    "#### 2) XOR için verileri değiştirip çalışmasınızı gözlemleyiniz.  "
   ]
  },
  {
   "cell_type": "code",
   "execution_count": 14,
   "metadata": {},
   "outputs": [
    {
     "data": {
      "text/plain": [
       "array([-2.,  2.,  2.])"
      ]
     },
     "execution_count": 14,
     "metadata": {},
     "output_type": "execute_result"
    }
   ],
   "source": [
    "d = np.array([0, 1, 1, 1])\n",
    "\n",
    "perceptron.fit(X,d)\n",
    "\n",
    "perceptron.W"
   ]
  },
  {
   "cell_type": "code",
   "execution_count": 15,
   "metadata": {},
   "outputs": [
    {
     "data": {
      "text/plain": [
       "array([ 2., -2., -1.])"
      ]
     },
     "execution_count": 15,
     "metadata": {},
     "output_type": "execute_result"
    }
   ],
   "source": [
    "d = np.array([1, 1, 1, 0])\n",
    "\n",
    "perceptron.fit(X,d)\n",
    "\n",
    "perceptron.W"
   ]
  },
  {
   "cell_type": "markdown",
   "metadata": {},
   "source": [
    "#### 3) Bu class ile dersimize kayıtlı 40 öğrenci için imza tanıması yapılırsa X ve d değerlerini ne olur, predict fonksiyonu nasıl kullanılır açıklayınız.\n",
    "\n",
    "Her bir öğrencinin imzasını 128x128 boyutunda bir grayscale image şeklinde tutabiliriz.\n",
    "\n",
    "Bu durumda X matrisimizin boyutu (40, 128, 128) şeklinde olur.\n",
    "\n",
    "X = [ [ 1. imzaya ait resim ],.\n",
    "        [2. imzaya ait resim] ,\n",
    "        [3. imzaya ait resim] ,\n",
    "        ...\n",
    "        [40. imzaya ait resim]\n",
    "    ]\n",
    "       \n",
    "Bu 40 öğrencinin her birini kendisine özel bir tamsayı ile etiketlersek (ahmet için 1, mehmet için 2 şeklinde)\n",
    "\n",
    "d = [0, 3, 4, 1, 5 ... , 32] şeklinde değerler içeren (40,) şekline sahip bir vektör olur\n",
    "\n",
    "\n",
    "Bu durumda predict fonksiyonunda predict için seçtiğimiz aktivasyon fonksiyonunu **softmax** aktivasyon fonksiyonu ile değiştirmeliyiz.\n",
    "\n",
    "Softmax aktivasyon fonksiyonu alacağı girdiyi elimizdeki 40 sınıf için de olasılık değeri olarak bir vektör verecektir\n",
    "\n",
    "Örnek bir çıktı şöyle olacaktır.\n",
    "\n",
    "[ 0.001, 0.02, 0.009, ,,, , 0.92, 0.0004]   (40,)\n",
    "\n",
    "Bu olasılıklardan en yüksek olana sahip index, imzanın hangi öğrenciye ait olduğuna dair tahmin olacaktır."
   ]
  },
  {
   "cell_type": "markdown",
   "metadata": {},
   "source": [
    "#### 4) Bu modelin hatası nasıl elde edilir, kendi çözümünüzü/ yorumunuzu yazınız.\n",
    "\n",
    "Bu modelin hata değerini hesaplarken çıktıların gerçek değerlerine olan uzaklığının karesine bakılabilir, burada karesini almamızın sebeplerinden birisi negatif bir uzaklık değeri almak istemiyor oluşumuzdur.\n",
    "\n",
    "Örneğin d de 3 olarak etiketlenmiş bir imzanın perceptrondaki softmax çıktısı şu şekilde bir şey olsun\n",
    "\n",
    "[0.001,  0.6,  0.04, 0.3... , ]  shape = (40,)\n",
    "\n",
    "burada görüleceği üzere 0.6 ihtimal ile girdinin 1 numaralı öğrenciye ait olduğunu gösteriyor, 0.3 ihtimal ile de 3 numaralı öğrenciye.\n",
    "\n",
    "Bu durumda E = (0 - 0.001)^2 + (0 - 0.6)^2 + (1 - 0.3)^2 +  ... (0 - 0.002)^2 \n",
    "\n",
    "şeklinde hesaplanır. Bu metoda Mean Square Error (MSE) da denir.\n",
    "\n",
    "Bunun dışında karelerini almak yerine absolute değerlerini yani mutlak değerlerini alarak ta bu hata değerleri pozitif yapılabilirdi. Burada karesinin alınmasının asıl sebebi sanırım bu işlemin geri yayılım (back-propagation) esnasında türevini aldığımızda üst olan 2 nin başa geçirilerek kolayca türevinin alınabilmesi."
   ]
  }
 ],
 "metadata": {
  "kernelspec": {
   "display_name": "Python 3",
   "language": "python",
   "name": "python3"
  },
  "language_info": {
   "codemirror_mode": {
    "name": "ipython",
    "version": 3
   },
   "file_extension": ".py",
   "mimetype": "text/x-python",
   "name": "python",
   "nbconvert_exporter": "python",
   "pygments_lexer": "ipython3",
   "version": "3.7.6"
  }
 },
 "nbformat": 4,
 "nbformat_minor": 4
}
